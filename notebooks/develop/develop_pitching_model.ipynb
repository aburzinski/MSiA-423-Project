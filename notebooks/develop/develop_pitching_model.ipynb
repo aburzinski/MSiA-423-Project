{
 "cells": [
  {
   "cell_type": "markdown",
   "metadata": {},
   "source": [
    "### Develop Model\n",
    "This notebook is being used to create and test different pitching models for this project"
   ]
  },
  {
   "cell_type": "code",
<<<<<<< HEAD
   "execution_count": 67,
=======
   "execution_count": 1,
>>>>>>> 95e02d45b4a55dd401cb5da815cfbc9b5bac584b
   "metadata": {
    "collapsed": false
   },
   "outputs": [],
   "source": [
    "import pandas as pd\n",
    "import numpy as np\n",
    "import os\n",
    "import pickle\n",
<<<<<<< HEAD
    "import matplotlib.pyplot as plt\n",
    "\n",
    "from sklearn.ensemble import *\n",
=======
    "\n",
    "from sklearn.linear_model import LogisticRegression\n",
>>>>>>> 95e02d45b4a55dd401cb5da815cfbc9b5bac584b
    "from sklearn.model_selection import train_test_split\n",
    "from sklearn import metrics\n",
    "from sklearn.metrics import confusion_matrix\n",
    "from sklearn.metrics import classification_report\n",
    "from sklearn.metrics import roc_auc_score\n",
    "from sklearn.metrics import roc_curve\n",
<<<<<<< HEAD
=======
    "\n",
    "import matplotlib.pyplot as plt\n",
>>>>>>> 95e02d45b4a55dd401cb5da815cfbc9b5bac584b
    "from imblearn.over_sampling import SMOTE"
   ]
  },
  {
   "cell_type": "code",
<<<<<<< HEAD
   "execution_count": 68,
=======
   "execution_count": 2,
>>>>>>> 95e02d45b4a55dd401cb5da815cfbc9b5bac584b
   "metadata": {
    "collapsed": true
   },
   "outputs": [],
   "source": [
    "import sys\n",
    "sys.path.append(os.environ.get('PYTHONPATH'))\n",
    "from config import config"
   ]
  },
  {
   "cell_type": "code",
<<<<<<< HEAD
   "execution_count": 69,
=======
   "execution_count": 3,
>>>>>>> 95e02d45b4a55dd401cb5da815cfbc9b5bac584b
   "metadata": {
    "collapsed": false
   },
   "outputs": [
    {
     "name": "stderr",
     "output_type": "stream",
     "text": [
      "C:\\Users\\aburz\\.conda\\envs\\msia423\\lib\\site-packages\\IPython\\core\\interactiveshell.py:3049: DtypeWarning: Columns (36,59) have mixed types. Specify dtype option on import or set low_memory=False.\n",
      "  interactivity=interactivity, compiler=compiler, result=result)\n"
     ]
    }
   ],
   "source": [
    "pitching = pd.read_csv(os.path.join(config.PROJECT_ROOT_DIR, 'data', 'historical', 'pitchingHistorical.csv'), encoding = 'latin')\n",
    "players = pd.read_csv(os.path.join(config.PROJECT_ROOT_DIR, 'data', 'historical', 'players.csv'), encoding = 'latin')\n",
    "cyYoung = pd.read_csv(os.path.join(config.PROJECT_ROOT_DIR, 'data', 'auxiliary', 'cyYoungWinners.csv'), encoding = 'latin')"
   ]
  },
  {
   "cell_type": "code",
<<<<<<< HEAD
   "execution_count": 70,
=======
   "execution_count": 4,
>>>>>>> 95e02d45b4a55dd401cb5da815cfbc9b5bac584b
   "metadata": {
    "collapsed": true
   },
   "outputs": [],
   "source": [
    "def nineInningNormalize(df, statColumn, inningsPitchedColumn = 'ip'):\n",
    "    return df[statColumn] * 9/(df[inningsPitchedColumn] % 1 * 10 / 3 + merged[inningsPitchedColumn].round())"
   ]
  },
  {
   "cell_type": "code",
<<<<<<< HEAD
   "execution_count": 71,
=======
   "execution_count": 5,
>>>>>>> 95e02d45b4a55dd401cb5da815cfbc9b5bac584b
   "metadata": {
    "collapsed": false
   },
   "outputs": [],
   "source": [
    "merged = players.merge(cyYoung, how='left', left_on='name_display_first_last', right_on='Winner')\n",
    "merged = pitching.merge(merged, how = 'left', left_on=['player_id','season'], right_on=['player_id', 'Year'])\n",
    "\n",
    "minimumInningsPitched = 10\n",
    "merged = merged[merged['ip'] > minimumInningsPitched]\n",
    "\n",
    "merged['sv_pct'] = merged['sv']/merged['svo']\n",
    "merged['win_pct'] = merged['w']/(merged['w'] + merged['l'])\n",
    "merged['hits_9'] = nineInningNormalize(merged, 'h')\n",
    "merged['hrs_9'] = nineInningNormalize(merged, 'hr')\n",
    "merged['bbs_9'] = nineInningNormalize(merged, 'bb')\n",
    "merged['ks_9'] = nineInningNormalize(merged, 'so')\n",
    "merged['ers_9'] = nineInningNormalize(merged, 'er')\n",
    "\n",
    "merged['is_winner'] = merged['Winner'].apply(lambda x: 0 if isinstance(x, float) else 1)\n",
    "\n",
    "modelData = merged[['hits_9', 'hrs_9', 'bbs_9', 'ks_9', 'ers_9', 'sv_pct', 'win_pct', 'era', 'whip', 'is_winner']].fillna(0)\n",
    "# modelData"
   ]
  },
  {
   "cell_type": "code",
<<<<<<< HEAD
   "execution_count": 72,
=======
   "execution_count": 6,
>>>>>>> 95e02d45b4a55dd401cb5da815cfbc9b5bac584b
   "metadata": {
    "collapsed": false
   },
   "outputs": [],
   "source": [
    "X = modelData.loc[:, modelData.columns != 'is_winner']\n",
    "y = modelData.loc[:, modelData.columns == 'is_winner']\n",
    "\n",
    "over_sample = SMOTE(random_state = 0)\n",
    "\n",
    "X_train, X_test, y_train, y_test = train_test_split(X, y, test_size=0.3, random_state=0)\n",
    "columns = X_train.columns\n",
    "\n",
    "y_train\n",
    "over_sample_X, over_sample_y = over_sample.fit_sample(X_train, y_train.values.ravel())\n",
    "over_sample_X = pd.DataFrame(data=over_sample_X,columns=columns )\n",
    "over_sample_y = pd.DataFrame(data=over_sample_y,columns=['is_winner'])"
   ]
  },
  {
   "cell_type": "code",
<<<<<<< HEAD
   "execution_count": 73,
=======
   "execution_count": 7,
>>>>>>> 95e02d45b4a55dd401cb5da815cfbc9b5bac584b
   "metadata": {
    "collapsed": false
   },
   "outputs": [
    {
     "name": "stdout",
     "output_type": "stream",
     "text": [
      "length of oversampled data is  34412\n",
      "Number of no subscription in oversampled data 17206\n",
      "Number of subscription 17206\n",
      "Proportion of no subscription data in oversampled data is  0.5\n",
      "Proportion of subscription data in oversampled data is  0.5\n"
     ]
    }
   ],
   "source": [
    "print(\"length of oversampled data is \",len(over_sample_X))\n",
    "print(\"Number of no subscription in oversampled data\",len(over_sample_y[over_sample_y['is_winner']==0]))\n",
    "print(\"Number of subscription\",len(over_sample_y[over_sample_y['is_winner']==1]))\n",
    "print(\"Proportion of no subscription data in oversampled data is \",len(over_sample_y[over_sample_y['is_winner']==0])/len(over_sample_X))\n",
    "print(\"Proportion of subscription data in oversampled data is \",len(over_sample_y[over_sample_y['is_winner']==1])/len(over_sample_X))"
   ]
  },
  {
   "cell_type": "code",
<<<<<<< HEAD
   "execution_count": 74,
=======
   "execution_count": 8,
>>>>>>> 95e02d45b4a55dd401cb5da815cfbc9b5bac584b
   "metadata": {
    "collapsed": false
   },
   "outputs": [
    {
     "name": "stdout",
     "output_type": "stream",
     "text": [
<<<<<<< HEAD
      "Accuracy of logistic regression classifier on test set: 0.89\n",
      "[[6939  442]\n",
      " [   3   26]]\n",
      "              precision    recall  f1-score   support\n",
      "\n",
      "           0       1.00      0.94      0.97      7381\n",
      "           1       0.06      0.90      0.10        29\n",
      "\n",
      "   micro avg       0.94      0.94      0.94      7410\n",
      "   macro avg       0.53      0.92      0.54      7410\n",
      "weighted avg       1.00      0.94      0.97      7410\n",
=======
      "Accuracy of logistic regression classifier on test set: 0.87\n",
      "[[6999  382]\n",
      " [   9   20]]\n",
      "              precision    recall  f1-score   support\n",
      "\n",
      "           0       1.00      0.95      0.97      7381\n",
      "           1       0.05      0.69      0.09        29\n",
      "\n",
      "   micro avg       0.95      0.95      0.95      7410\n",
      "   macro avg       0.52      0.82      0.53      7410\n",
      "weighted avg       1.00      0.95      0.97      7410\n",
>>>>>>> 95e02d45b4a55dd401cb5da815cfbc9b5bac584b
      "\n"
     ]
    },
    {
<<<<<<< HEAD
     "data": {
      "text/plain": [
       "array([[0.28569091, 0.71430909],\n",
       "       [0.80913271, 0.19086729],\n",
       "       [0.97004259, 0.02995741],\n",
       "       ...,\n",
       "       [0.97270079, 0.02729921],\n",
       "       [0.96449958, 0.03550042],\n",
       "       [0.96449958, 0.03550042]])"
      ]
     },
     "execution_count": 74,
=======
     "name": "stderr",
     "output_type": "stream",
     "text": [
      "C:\\Users\\aburz\\.conda\\envs\\msia423\\lib\\site-packages\\sklearn\\linear_model\\logistic.py:433: FutureWarning: Default solver will be changed to 'lbfgs' in 0.22. Specify a solver to silence this warning.\n",
      "  FutureWarning)\n"
     ]
    },
    {
     "data": {
      "text/plain": [
       "array([[5.34629083e-01, 4.65370917e-01],\n",
       "       [7.29929051e-01, 2.70070949e-01],\n",
       "       [9.99699132e-01, 3.00868310e-04],\n",
       "       ...,\n",
       "       [9.99292908e-01, 7.07091878e-04],\n",
       "       [8.30693000e-01, 1.69307000e-01],\n",
       "       [9.94926737e-01, 5.07326290e-03]])"
      ]
     },
     "execution_count": 8,
>>>>>>> 95e02d45b4a55dd401cb5da815cfbc9b5bac584b
     "metadata": {},
     "output_type": "execute_result"
    }
   ],
   "source": [
<<<<<<< HEAD
    "model = RandomForestClassifier(n_estimators=100, max_depth=2, random_state=0)\n",
    "model.fit(over_sample_X, over_sample_y.values.ravel())\n",
    "\n",
    "y_pred = (model.predict_proba(X_test)[:,1] >= .7).astype(bool)\n",
    "print('Accuracy of logistic regression classifier on test set: {:.2f}'.format(model.score(X_test, y_test)))\n",
=======
    "lr = LogisticRegression()\n",
    "lr.fit(over_sample_X, over_sample_y.values.ravel())\n",
    "\n",
    "y_pred = (lr.predict_proba(X_test)[:,1] >= .8).astype(bool)\n",
    "print('Accuracy of logistic regression classifier on test set: {:.2f}'.format(lr.score(X_test, y_test)))\n",
>>>>>>> 95e02d45b4a55dd401cb5da815cfbc9b5bac584b
    "\n",
    "cm = confusion_matrix(y_test, y_pred)\n",
    "print(cm)\n",
    "\n",
    "print(classification_report(y_test, y_pred))\n",
<<<<<<< HEAD
    "model.predict_proba(X_test)"
=======
    "lr.predict_proba(X_test)"
>>>>>>> 95e02d45b4a55dd401cb5da815cfbc9b5bac584b
   ]
  },
  {
   "cell_type": "code",
<<<<<<< HEAD
   "execution_count": 75,
=======
   "execution_count": 9,
>>>>>>> 95e02d45b4a55dd401cb5da815cfbc9b5bac584b
   "metadata": {
    "collapsed": false
   },
   "outputs": [
    {
     "data": {
<<<<<<< HEAD
      "image/png": "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\n",
=======
      "image/png": "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\n",
>>>>>>> 95e02d45b4a55dd401cb5da815cfbc9b5bac584b
      "text/plain": [
       "<Figure size 432x288 with 1 Axes>"
      ]
     },
     "metadata": {
      "needs_background": "light"
     },
     "output_type": "display_data"
    }
   ],
   "source": [
<<<<<<< HEAD
    "logit_roc_auc = roc_auc_score(y_test, model.predict(X_test))\n",
    "fpr, tpr, thresholds = roc_curve(y_test, model.predict_proba(X_test)[:,1])\n",
=======
    "logit_roc_auc = roc_auc_score(y_test, lr.predict(X_test))\n",
    "fpr, tpr, thresholds = roc_curve(y_test, lr.predict_proba(X_test)[:,1])\n",
>>>>>>> 95e02d45b4a55dd401cb5da815cfbc9b5bac584b
    "plt.figure()\n",
    "plt.plot(fpr, tpr, label='Logistic Regression (area = %0.2f)' % logit_roc_auc)\n",
    "plt.plot([0, 1], [0, 1],'r--')\n",
    "plt.xlim([0.0, 1.0])\n",
    "plt.ylim([0.0, 1.05])\n",
    "plt.xlabel('False Positive Rate')\n",
    "plt.ylabel('True Positive Rate')\n",
    "plt.title('Receiver operating characteristic')\n",
    "plt.legend(loc=\"lower right\")\n",
    "# plt.savefig('Log_ROC')\n",
    "plt.show()"
   ]
  },
  {
   "cell_type": "code",
<<<<<<< HEAD
   "execution_count": 76,
=======
   "execution_count": 10,
>>>>>>> 95e02d45b4a55dd401cb5da815cfbc9b5bac584b
   "metadata": {
    "collapsed": false
   },
   "outputs": [],
   "source": [
    "with open('cyYoung.model', 'wb') as f:\n",
<<<<<<< HEAD
    "    pickle.dump(model, f)\n",
=======
    "    pickle.dump(lr, f)\n",
>>>>>>> 95e02d45b4a55dd401cb5da815cfbc9b5bac584b
    "f.close()"
   ]
  }
 ],
 "metadata": {
  "kernelspec": {
   "display_name": "Python (msia423)",
   "language": "python",
   "name": "msia423"
  },
  "language_info": {
   "codemirror_mode": {
    "name": "ipython",
    "version": 3
   },
   "file_extension": ".py",
   "mimetype": "text/x-python",
   "name": "python",
   "nbconvert_exporter": "python",
   "pygments_lexer": "ipython3",
   "version": "3.7.3"
  }
 },
 "nbformat": 4,
 "nbformat_minor": 2
}
