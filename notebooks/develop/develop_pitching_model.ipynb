{
 "cells": [
  {
   "cell_type": "markdown",
   "metadata": {},
   "source": [
    "### Develop Model\n",
    "This notebook is being used to create and test different pitching models for this project"
   ]
  },
  {
   "cell_type": "code",
   "execution_count": 11,
   "metadata": {
    "collapsed": false
   },
   "outputs": [],
   "source": [
    "import pandas as pd\n",
    "import numpy as np\n",
    "import os\n",
    "import pickle\n",
    "import matplotlib.pyplot as plt\n",
    "\n",
    "from sklearn.linear_model import *\n",
    "from sklearn.model_selection import train_test_split\n",
    "from sklearn import metrics\n",
    "from sklearn.metrics import confusion_matrix\n",
    "from sklearn.metrics import classification_report\n",
    "from sklearn.metrics import roc_auc_score\n",
    "from sklearn.metrics import roc_curve\n",
    "from imblearn.over_sampling import SMOTE"
   ]
  },
  {
   "cell_type": "code",
   "execution_count": 12,
   "metadata": {
    "collapsed": true
   },
   "outputs": [],
   "source": [
    "import sys\n",
    "sys.path.append(os.environ.get('PYTHONPATH'))\n",
    "from config import config"
   ]
  },
  {
   "cell_type": "code",
   "execution_count": 13,
   "metadata": {
    "collapsed": false
   },
   "outputs": [
    {
     "name": "stderr",
     "output_type": "stream",
     "text": [
      "C:\\Users\\aburz\\.conda\\envs\\msia423\\lib\\site-packages\\IPython\\core\\interactiveshell.py:3049: DtypeWarning: Columns (36,59) have mixed types. Specify dtype option on import or set low_memory=False.\n",
      "  interactivity=interactivity, compiler=compiler, result=result)\n"
     ]
    }
   ],
   "source": [
    "pitching = pd.read_csv(os.path.join(config.PROJECT_ROOT_DIR, 'data', 'historical', 'pitchingHistorical.csv'), encoding = 'latin')\n",
    "players = pd.read_csv(os.path.join(config.PROJECT_ROOT_DIR, 'data', 'historical', 'players.csv'), encoding = 'latin')\n",
    "cyYoung = pd.read_csv(os.path.join(config.PROJECT_ROOT_DIR, 'data', 'auxiliary', 'cyYoungWinners.csv'), encoding = 'latin')"
   ]
  },
  {
   "cell_type": "code",
   "execution_count": 14,
   "metadata": {
    "collapsed": true
   },
   "outputs": [],
   "source": [
    "def nineInningNormalize(df, statColumn, inningsPitchedColumn = 'ip'):\n",
    "    return df[statColumn] * 9/(df[inningsPitchedColumn] % 1 * 10 / 3 + merged[inningsPitchedColumn].round())"
   ]
  },
  {
   "cell_type": "code",
   "execution_count": 15,
   "metadata": {
    "collapsed": false
   },
   "outputs": [],
   "source": [
    "merged = players.merge(cyYoung, how='left', left_on='name_display_first_last', right_on='Winner')\n",
    "merged = pitching.merge(merged, how = 'left', left_on=['player_id','season'], right_on=['player_id', 'Year'])\n",
    "\n",
    "minimumInningsPitched = 10\n",
    "merged = merged[merged['ip'] > minimumInningsPitched]\n",
    "\n",
    "# merged['sv_pct'] = merged['sv']/merged['svo']\n",
    "# merged['win_pct'] = merged['w']/(merged['w'] + merged['l'])\n",
    "# merged['hits_9'] = nineInningNormalize(merged, 'h')\n",
    "# merged['hrs_9'] = nineInningNormalize(merged, 'hr')\n",
    "# merged['bbs_9'] = nineInningNormalize(merged, 'bb')\n",
    "# merged['ks_9'] = nineInningNormalize(merged, 'so')\n",
    "# merged['ers_9'] = nineInningNormalize(merged, 'er')\n",
    "\n",
    "merged['is_winner'] = merged['Winner'].apply(lambda x: 0 if isinstance(x, float) else 1)\n",
    "\n",
    "modelData = merged[['h', 'hr', 'bb', 'so', 'er', 'sv', 'svo', 'w', 'l', 'era', 'whip', 'ip', 'is_winner']].fillna(0)\n",
    "# modelData"
   ]
  },
  {
   "cell_type": "code",
   "execution_count": 16,
   "metadata": {
    "collapsed": false
   },
   "outputs": [],
   "source": [
    "X = modelData.loc[:, modelData.columns != 'is_winner']\n",
    "y = modelData.loc[:, modelData.columns == 'is_winner']\n",
    "\n",
    "over_sample = SMOTE(random_state = 0)\n",
    "\n",
    "X_train, X_test, y_train, y_test = train_test_split(X, y, test_size=0.3, random_state=0)\n",
    "columns = X_train.columns\n",
    "\n",
    "y_train\n",
    "over_sample_X, over_sample_y = over_sample.fit_sample(X_train, y_train.values.ravel())\n",
    "over_sample_X = pd.DataFrame(data=over_sample_X,columns=columns )\n",
    "over_sample_y = pd.DataFrame(data=over_sample_y,columns=['is_winner'])"
   ]
  },
  {
   "cell_type": "code",
   "execution_count": 17,
   "metadata": {
    "collapsed": false
   },
   "outputs": [
    {
     "name": "stdout",
     "output_type": "stream",
     "text": [
      "length of oversampled data is  34412\n",
      "Number of no subscription in oversampled data 17206\n",
      "Number of subscription 17206\n",
      "Proportion of no subscription data in oversampled data is  0.5\n",
      "Proportion of subscription data in oversampled data is  0.5\n"
     ]
    }
   ],
   "source": [
    "print(\"length of oversampled data is \",len(over_sample_X))\n",
    "print(\"Number of no subscription in oversampled data\",len(over_sample_y[over_sample_y['is_winner']==0]))\n",
    "print(\"Number of subscription\",len(over_sample_y[over_sample_y['is_winner']==1]))\n",
    "print(\"Proportion of no subscription data in oversampled data is \",len(over_sample_y[over_sample_y['is_winner']==0])/len(over_sample_X))\n",
    "print(\"Proportion of subscription data in oversampled data is \",len(over_sample_y[over_sample_y['is_winner']==1])/len(over_sample_X))"
   ]
  },
  {
   "cell_type": "code",
   "execution_count": 18,
   "metadata": {
    "collapsed": false
   },
   "outputs": [
    {
     "name": "stdout",
     "output_type": "stream",
     "text": [
      "Accuracy of logistic regression classifier on test set: 0.96\n",
      "[[7199  182]\n",
      " [   0   29]]\n",
      "              precision    recall  f1-score   support\n",
      "\n",
      "           0       1.00      0.98      0.99      7381\n",
      "           1       0.14      1.00      0.24        29\n",
      "\n",
      "   micro avg       0.98      0.98      0.98      7410\n",
      "   macro avg       0.57      0.99      0.61      7410\n",
      "weighted avg       1.00      0.98      0.98      7410\n",
      "\n"
     ]
    },
    {
     "name": "stderr",
     "output_type": "stream",
     "text": [
      "C:\\Users\\aburz\\.conda\\envs\\msia423\\lib\\site-packages\\sklearn\\linear_model\\logistic.py:758: ConvergenceWarning: lbfgs failed to converge. Increase the number of iterations.\n",
      "  \"of iterations.\", ConvergenceWarning)\n"
     ]
    },
    {
     "data": {
      "text/plain": [
       "array([[9.69722040e-01, 3.02779600e-02],\n",
       "       [6.50375326e-01, 3.49624674e-01],\n",
       "       [9.99847501e-01, 1.52498529e-04],\n",
       "       ...,\n",
       "       [9.99775167e-01, 2.24832691e-04],\n",
       "       [9.62675849e-01, 3.73241507e-02],\n",
       "       [9.99934715e-01, 6.52849326e-05]])"
      ]
     },
     "execution_count": 18,
     "metadata": {},
     "output_type": "execute_result"
    }
   ],
   "source": [
    "model = LogisticRegression(random_state=0, solver='lbfgs', multi_class='ovr')\n",
    "model.fit(over_sample_X, over_sample_y.values.ravel())\n",
    "\n",
    "y_pred = (model.predict_proba(X_test)[:,1] >= .7).astype(bool)\n",
    "print('Accuracy of logistic regression classifier on test set: {:.2f}'.format(model.score(X_test, y_test)))\n",
    "\n",
    "cm = confusion_matrix(y_test, y_pred)\n",
    "print(cm)\n",
    "\n",
    "print(classification_report(y_test, y_pred))\n",
    "model.predict_proba(X_test)"
   ]
  },
  {
   "cell_type": "code",
   "execution_count": 19,
   "metadata": {
    "collapsed": false
   },
   "outputs": [
    {
     "data": {
      "image/png": "[encoded data removed]",
      "text/plain": [
       "<Figure size 432x288 with 1 Axes>"
      ]
     },
     "metadata": {
      "needs_background": "light"
     },
     "output_type": "display_data"
    }
   ],
   "source": [
    "logit_roc_auc = roc_auc_score(y_test, model.predict(X_test))\n",
    "fpr, tpr, thresholds = roc_curve(y_test, model.predict_proba(X_test)[:,1])\n",
    "plt.figure()\n",
    "plt.plot(fpr, tpr, label='Logistic Regression (area = %0.2f)' % logit_roc_auc)\n",
    "plt.plot([0, 1], [0, 1],'r--')\n",
    "plt.xlim([0.0, 1.0])\n",
    "plt.ylim([0.0, 1.05])\n",
    "plt.xlabel('False Positive Rate')\n",
    "plt.ylabel('True Positive Rate')\n",
    "plt.title('Receiver operating characteristic')\n",
    "plt.legend(loc=\"lower right\")\n",
    "# plt.savefig('Log_ROC')\n",
    "plt.show()"
   ]
  },
  {
   "cell_type": "code",
   "execution_count": 20,
   "metadata": {
    "collapsed": false
   },
   "outputs": [],
   "source": [
    "with open('cyYoung.model', 'wb') as f:\n",
    "    pickle.dump(model, f)\n",
    "f.close()"
   ]
  }
 ],
 "metadata": {
  "kernelspec": {
   "display_name": "Python (msia423)",
   "language": "python",
   "name": "msia423"
  },
  "language_info": {
   "codemirror_mode": {
    "name": "ipython",
    "version": 3
   },
   "file_extension": ".py",
   "mimetype": "text/x-python",
   "name": "python",
   "nbconvert_exporter": "python",
   "pygments_lexer": "ipython3",
   "version": "3.7.3"
  }
 },
 "nbformat": 4,
 "nbformat_minor": 2
}
