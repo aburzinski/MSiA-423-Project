{
 "cells": [
  {
   "cell_type": "markdown",
   "metadata": {},
   "source": [
    "### Develop Model\n",
    "This notebook is being used to create and test different mvp models for this project"
   ]
  },
  {
   "cell_type": "code",
<<<<<<< HEAD
   "execution_count": 24,
=======
   "execution_count": 1,
>>>>>>> 95e02d45b4a55dd401cb5da815cfbc9b5bac584b
   "metadata": {
    "collapsed": true
   },
   "outputs": [],
   "source": [
    "import pandas as pd\n",
    "import numpy as np\n",
    "import os\n",
    "import pickle\n",
    "\n",
<<<<<<< HEAD
    "from sklearn.ensemble import *\n",
=======
    "from sklearn.linear_model import LogisticRegression\n",
>>>>>>> 95e02d45b4a55dd401cb5da815cfbc9b5bac584b
    "from sklearn.model_selection import train_test_split\n",
    "from sklearn import metrics\n",
    "from sklearn.metrics import confusion_matrix\n",
    "from sklearn.metrics import classification_report\n",
    "from sklearn.metrics import roc_auc_score\n",
    "from sklearn.metrics import roc_curve\n",
    "\n",
    "import matplotlib.pyplot as plt\n",
    "from imblearn.over_sampling import SMOTE"
   ]
  },
  {
   "cell_type": "code",
<<<<<<< HEAD
   "execution_count": 25,
=======
   "execution_count": 2,
>>>>>>> 95e02d45b4a55dd401cb5da815cfbc9b5bac584b
   "metadata": {
    "collapsed": true
   },
   "outputs": [],
   "source": [
    "import sys\n",
    "sys.path.append(os.environ.get('PYTHONPATH'))\n",
    "from config import config"
   ]
  },
  {
   "cell_type": "code",
<<<<<<< HEAD
   "execution_count": 36,
   "metadata": {
    "collapsed": false
   },
   "outputs": [],
=======
   "execution_count": 55,
   "metadata": {
    "collapsed": false
   },
   "outputs": [
    {
     "name": "stderr",
     "output_type": "stream",
     "text": [
      "C:\\Users\\aburz\\.conda\\envs\\msia423\\lib\\site-packages\\IPython\\core\\interactiveshell.py:3049: DtypeWarning: Columns (36,59) have mixed types. Specify dtype option on import or set low_memory=False.\n",
      "  interactivity=interactivity, compiler=compiler, result=result)\n"
     ]
    }
   ],
>>>>>>> 95e02d45b4a55dd401cb5da815cfbc9b5bac584b
   "source": [
    "pitching = pd.read_csv(os.path.join(config.PROJECT_ROOT_DIR, 'data', 'historical', 'pitchingHistorical.csv'), encoding = 'latin')\n",
    "hitting = pd.read_csv(os.path.join(config.PROJECT_ROOT_DIR, 'data', 'historical', 'hittingHistorical.csv'), encoding = 'latin')\n",
    "players = pd.read_csv(os.path.join(config.PROJECT_ROOT_DIR, 'data', 'historical', 'players.csv'), encoding = 'latin')\n",
    "mvp = pd.read_csv(os.path.join(config.PROJECT_ROOT_DIR, 'data', 'auxiliary', 'mvpWinners.csv'), encoding = 'latin')"
   ]
  },
  {
   "cell_type": "code",
<<<<<<< HEAD
   "execution_count": 27,
=======
   "execution_count": 4,
>>>>>>> 95e02d45b4a55dd401cb5da815cfbc9b5bac584b
   "metadata": {
    "collapsed": true
   },
   "outputs": [],
   "source": [
    "def nineInningNormalize(df, statColumn, inningsPitchedColumn = 'ip'):\n",
    "    return df[statColumn] * 9/(df[inningsPitchedColumn] % 1 * 10 / 3 + merged[inningsPitchedColumn].round())"
   ]
  },
  {
   "cell_type": "code",
<<<<<<< HEAD
   "execution_count": 28,
=======
   "execution_count": 16,
>>>>>>> 95e02d45b4a55dd401cb5da815cfbc9b5bac584b
   "metadata": {
    "collapsed": true
   },
   "outputs": [],
   "source": [
    "def atBatNormalize(df, statColumn, atBatColumn):\n",
    "    return df[statColumn] / df[atBatColumn]"
   ]
  },
  {
   "cell_type": "code",
<<<<<<< HEAD
   "execution_count": 46,
   "metadata": {
    "collapsed": false
   },
   "outputs": [],
=======
   "execution_count": 78,
   "metadata": {
    "collapsed": false
   },
   "outputs": [
    {
     "name": "stderr",
     "output_type": "stream",
     "text": [
      "C:\\Users\\aburz\\.conda\\envs\\msia423\\lib\\site-packages\\pandas\\core\\indexing.py:543: SettingWithCopyWarning: \n",
      "A value is trying to be set on a copy of a slice from a DataFrame.\n",
      "Try using .loc[row_indexer,col_indexer] = value instead\n",
      "\n",
      "See the caveats in the documentation: http://pandas.pydata.org/pandas-docs/stable/indexing.html#indexing-view-versus-copy\n",
      "  self.obj[item] = s\n"
     ]
    }
   ],
>>>>>>> 95e02d45b4a55dd401cb5da815cfbc9b5bac584b
   "source": [
    "merged = players.merge(mvp, how='left', left_on='name_display_first_last', right_on='Winner')\n",
    "stats = pitching.merge(hitting, how='outer', left_on=['player_id', 'season'], right_on=['player_id', 'season'])\n",
    "merged = stats.merge(merged, how = 'left', left_on=['player_id','season'], right_on=['player_id', 'Year'])\n",
    "\n",
    "minimumInningsPitched = 10\n",
    "minimumAtBats = 10\n",
    "merged = merged[(merged['ip'] > minimumInningsPitched) | (merged['ab_y'] > minimumAtBats)]\n",
    "\n",
    "merged['sv_pct'] = merged['sv']/merged['svo']\n",
    "merged['win_pct'] = merged['w']/(merged['w'] + merged['l'])\n",
    "merged['hits_9'] = nineInningNormalize(merged, 'h_x')\n",
    "merged['hrs_9'] = nineInningNormalize(merged, 'hr_x')\n",
    "merged['bbs_9'] = nineInningNormalize(merged, 'bb_x')\n",
    "merged['ks_9'] = nineInningNormalize(merged, 'so_x')\n",
    "merged['ers_9'] = nineInningNormalize(merged, 'er')\n",
    "\n",
    "merged['hit_ab'] = atBatNormalize(merged, 'h_y', 'ab_y')\n",
    "merged['hr_ab'] = atBatNormalize(merged, 'hr_y', 'ab_y')\n",
    "merged['rbi_ab'] = atBatNormalize(merged, 'rbi', 'ab_y')\n",
    "merged['bb_ab'] = atBatNormalize(merged, 'bb_y', 'ab_y')\n",
    "merged['k_ab'] = atBatNormalize(merged, 'so_y', 'ab_y')\n",
    "\n",
    "merged['is_winner'] = merged['Winner'].apply(lambda x: 0 if isinstance(x, float) else 1)\n",
    "\n",
    "modelData = merged[['hits_9', 'hrs_9', 'bbs_9', 'ks_9', 'ers_9', 'sv_pct', 'win_pct', 'era', 'whip', 'hit_ab', 'hr_ab', 'rbi_ab', 'bb_ab', 'k_ab', 'slg_y', 'obp_y', 'is_winner']]\n",
    "\n",
    "modelData.loc[modelData['era'] == '-.--', 'era'] = 0.0\n",
    "modelData.loc[modelData['era'] == '*.**', 'era'] = 0.0\n",
    "modelData.loc[modelData['whip'] == '-.--', 'whip'] = 0.0\n",
    "modelData.loc[modelData['whip'] == '*.**', 'whip'] = 0.0\n",
    "\n",
    "modelData.loc[modelData['slg_y'] == '.---', 'slg_y'] = 0.0\n",
    "modelData.loc[modelData['obp_y'] == '.---', 'obp_y'] = 0.0\n",
    "\n",
    "modelData = modelData.replace([np.inf, -np.inf], np.nan).fillna(0)\n",
    "\n",
    "# modelData"
   ]
  },
  {
   "cell_type": "code",
<<<<<<< HEAD
   "execution_count": 30,
=======
   "execution_count": 72,
>>>>>>> 95e02d45b4a55dd401cb5da815cfbc9b5bac584b
   "metadata": {
    "collapsed": false
   },
   "outputs": [],
   "source": [
    "X = modelData.loc[:, modelData.columns != 'is_winner']\n",
    "y = modelData.loc[:, modelData.columns == 'is_winner']\n",
    "\n",
    "over_sample = SMOTE(random_state = 0)\n",
    "\n",
    "X_train, X_test, y_train, y_test = train_test_split(X, y, test_size=0.3, random_state=0)\n",
    "columns = X_train.columns\n",
    "\n",
    "y_train\n",
    "over_sample_X, over_sample_y = over_sample.fit_sample(X_train, y_train.values.ravel())\n",
    "over_sample_X = pd.DataFrame(data=over_sample_X,columns=columns )\n",
    "over_sample_y = pd.DataFrame(data=over_sample_y,columns=['is_winner'])"
   ]
  },
  {
   "cell_type": "code",
<<<<<<< HEAD
   "execution_count": 31,
=======
   "execution_count": 73,
>>>>>>> 95e02d45b4a55dd401cb5da815cfbc9b5bac584b
   "metadata": {
    "collapsed": false
   },
   "outputs": [
    {
     "name": "stdout",
     "output_type": "stream",
     "text": [
      "length of oversampled data is  82400\n",
      "Number of no subscription in oversampled data 41200\n",
      "Number of subscription 41200\n",
      "Proportion of no subscription data in oversampled data is  0.5\n",
      "Proportion of subscription data in oversampled data is  0.5\n"
     ]
    }
   ],
   "source": [
    "print(\"length of oversampled data is \",len(over_sample_X))\n",
    "print(\"Number of no subscription in oversampled data\",len(over_sample_y[over_sample_y['is_winner']==0]))\n",
    "print(\"Number of subscription\",len(over_sample_y[over_sample_y['is_winner']==1]))\n",
    "print(\"Proportion of no subscription data in oversampled data is \",len(over_sample_y[over_sample_y['is_winner']==0])/len(over_sample_X))\n",
    "print(\"Proportion of subscription data in oversampled data is \",len(over_sample_y[over_sample_y['is_winner']==1])/len(over_sample_X))"
   ]
  },
  {
   "cell_type": "code",
<<<<<<< HEAD
   "execution_count": 32,
=======
   "execution_count": 74,
>>>>>>> 95e02d45b4a55dd401cb5da815cfbc9b5bac584b
   "metadata": {
    "collapsed": false
   },
   "outputs": [
    {
<<<<<<< HEAD
     "name": "stdout",
     "output_type": "stream",
     "text": [
      "Accuracy of logistic regression classifier on test set: 0.99\n",
      "[[17639    28]\n",
      " [   25     4]]\n",
      "              precision    recall  f1-score   support\n",
      "\n",
      "           0       1.00      1.00      1.00     17667\n",
      "           1       0.12      0.14      0.13        29\n",
      "\n",
      "   micro avg       1.00      1.00      1.00     17696\n",
      "   macro avg       0.56      0.57      0.56     17696\n",
      "weighted avg       1.00      1.00      1.00     17696\n",
=======
     "name": "stderr",
     "output_type": "stream",
     "text": [
      "C:\\Users\\aburz\\.conda\\envs\\msia423\\lib\\site-packages\\sklearn\\linear_model\\logistic.py:433: FutureWarning: Default solver will be changed to 'lbfgs' in 0.22. Specify a solver to silence this warning.\n",
      "  FutureWarning)\n"
     ]
    },
    {
     "name": "stdout",
     "output_type": "stream",
     "text": [
      "Accuracy of logistic regression classifier on test set: 0.91\n",
      "[[17064   603]\n",
      " [   11    18]]\n",
      "              precision    recall  f1-score   support\n",
      "\n",
      "           0       1.00      0.97      0.98     17667\n",
      "           1       0.03      0.62      0.06        29\n",
      "\n",
      "   micro avg       0.97      0.97      0.97     17696\n",
      "   macro avg       0.51      0.79      0.52     17696\n",
      "weighted avg       1.00      0.97      0.98     17696\n",
>>>>>>> 95e02d45b4a55dd401cb5da815cfbc9b5bac584b
      "\n"
     ]
    },
    {
     "data": {
      "text/plain": [
<<<<<<< HEAD
       "array([[1., 0.],\n",
       "       [1., 0.],\n",
       "       [1., 0.],\n",
       "       ...,\n",
       "       [1., 0.],\n",
       "       [1., 0.],\n",
       "       [1., 0.]])"
      ]
     },
     "execution_count": 32,
=======
       "array([[0.97947937, 0.02052063],\n",
       "       [0.92958128, 0.07041872],\n",
       "       [0.69941945, 0.30058055],\n",
       "       ...,\n",
       "       [0.91812283, 0.08187717],\n",
       "       [0.85980907, 0.14019093],\n",
       "       [0.95765906, 0.04234094]])"
      ]
     },
     "execution_count": 74,
>>>>>>> 95e02d45b4a55dd401cb5da815cfbc9b5bac584b
     "metadata": {},
     "output_type": "execute_result"
    }
   ],
   "source": [
<<<<<<< HEAD
    "model = RandomForestClassifier(n_estimators=100, max_depth=None, min_samples_split=2, random_state=0)\n",
    "model.fit(over_sample_X, over_sample_y.values.ravel())\n",
    "\n",
    "y_pred = (model.predict_proba(X_test)[:,1] >= .8).astype(bool)\n",
    "print('Accuracy of logistic regression classifier on test set: {:.2f}'.format(model.score(X_test, y_test)))\n",
=======
    "lr = LogisticRegression()\n",
    "lr.fit(over_sample_X, over_sample_y.values.ravel())\n",
    "\n",
    "y_pred = (lr.predict_proba(X_test)[:,1] >= .8).astype(bool)\n",
    "print('Accuracy of logistic regression classifier on test set: {:.2f}'.format(lr.score(X_test, y_test)))\n",
>>>>>>> 95e02d45b4a55dd401cb5da815cfbc9b5bac584b
    "\n",
    "cm = confusion_matrix(y_test, y_pred)\n",
    "print(cm)\n",
    "\n",
    "print(classification_report(y_test, y_pred))\n",
<<<<<<< HEAD
    "model.predict_proba(X_test)"
=======
    "lr.predict_proba(X_test)"
>>>>>>> 95e02d45b4a55dd401cb5da815cfbc9b5bac584b
   ]
  },
  {
   "cell_type": "code",
<<<<<<< HEAD
   "execution_count": 33,
=======
   "execution_count": 75,
>>>>>>> 95e02d45b4a55dd401cb5da815cfbc9b5bac584b
   "metadata": {
    "collapsed": false
   },
   "outputs": [
    {
     "data": {
<<<<<<< HEAD
      "image/png": "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\n",
=======
      "image/png": "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\n",
>>>>>>> 95e02d45b4a55dd401cb5da815cfbc9b5bac584b
      "text/plain": [
       "<Figure size 432x288 with 1 Axes>"
      ]
     },
     "metadata": {
      "needs_background": "light"
     },
     "output_type": "display_data"
    }
   ],
   "source": [
<<<<<<< HEAD
    "logit_roc_auc = roc_auc_score(y_test, model.predict(X_test))\n",
    "fpr, tpr, thresholds = roc_curve(y_test, model.predict_proba(X_test)[:,1])\n",
=======
    "logit_roc_auc = roc_auc_score(y_test, lr.predict(X_test))\n",
    "fpr, tpr, thresholds = roc_curve(y_test, lr.predict_proba(X_test)[:,1])\n",
>>>>>>> 95e02d45b4a55dd401cb5da815cfbc9b5bac584b
    "plt.figure()\n",
    "plt.plot(fpr, tpr, label='Logistic Regression (area = %0.2f)' % logit_roc_auc)\n",
    "plt.plot([0, 1], [0, 1],'r--')\n",
    "plt.xlim([0.0, 1.0])\n",
    "plt.ylim([0.0, 1.05])\n",
    "plt.xlabel('False Positive Rate')\n",
    "plt.ylabel('True Positive Rate')\n",
    "plt.title('Receiver operating characteristic')\n",
    "plt.legend(loc=\"lower right\")\n",
    "# plt.savefig('Log_ROC')\n",
    "plt.show()"
   ]
  },
  {
   "cell_type": "code",
<<<<<<< HEAD
   "execution_count": 34,
=======
   "execution_count": 76,
>>>>>>> 95e02d45b4a55dd401cb5da815cfbc9b5bac584b
   "metadata": {
    "collapsed": true
   },
   "outputs": [],
   "source": [
    "with open('mvp.model', 'wb') as f:\n",
<<<<<<< HEAD
    "    pickle.dump(model, f)\n",
=======
    "    pickle.dump(lr, f)\n",
>>>>>>> 95e02d45b4a55dd401cb5da815cfbc9b5bac584b
    "f.close()"
   ]
  }
 ],
 "metadata": {
  "kernelspec": {
   "display_name": "Python (msia423)",
   "language": "python",
   "name": "msia423"
  },
  "language_info": {
   "codemirror_mode": {
    "name": "ipython",
    "version": 3
   },
   "file_extension": ".py",
   "mimetype": "text/x-python",
   "name": "python",
   "nbconvert_exporter": "python",
   "pygments_lexer": "ipython3",
   "version": "3.7.3"
  }
 },
 "nbformat": 4,
 "nbformat_minor": 2
}
