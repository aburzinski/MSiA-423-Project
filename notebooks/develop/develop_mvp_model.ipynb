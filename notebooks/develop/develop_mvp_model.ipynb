{
 "cells": [
  {
   "cell_type": "markdown",
   "metadata": {},
   "source": [
    "### Develop Model\n",
    "This notebook is being used to create and test different mvp models for this project"
   ]
  },
  {
   "cell_type": "code",
   "execution_count": 12,
   "metadata": {
    "collapsed": false
   },
   "outputs": [],
   "source": [
    "import pandas as pd\n",
    "import numpy as np\n",
    "import os\n",
    "import pickle\n",
    "\n",
    "from sklearn.preprocessing import *\n",
    "from sklearn.linear_model import *\n",
    "from sklearn.ensemble import *\n",
    "from sklearn.model_selection import train_test_split\n",
    "from sklearn import metrics\n",
    "from sklearn.metrics import confusion_matrix\n",
    "from sklearn.metrics import classification_report\n",
    "from sklearn.metrics import roc_auc_score\n",
    "from sklearn.metrics import roc_curve\n",
    "\n",
    "import matplotlib.pyplot as plt\n",
    "from imblearn.over_sampling import SMOTE"
   ]
  },
  {
   "cell_type": "code",
   "execution_count": 13,
   "metadata": {
    "collapsed": true
   },
   "outputs": [],
   "source": [
    "import sys\n",
    "sys.path.append(os.environ.get('PYTHONPATH'))\n",
    "from config import config"
   ]
  },
  {
   "cell_type": "code",
   "execution_count": 14,
   "metadata": {
    "collapsed": false
   },
   "outputs": [
    {
     "name": "stderr",
     "output_type": "stream",
     "text": [
      "C:\\Users\\aburz\\.conda\\envs\\msia423\\lib\\site-packages\\IPython\\core\\interactiveshell.py:3049: DtypeWarning: Columns (36,59) have mixed types. Specify dtype option on import or set low_memory=False.\n",
      "  interactivity=interactivity, compiler=compiler, result=result)\n"
     ]
    }
   ],
   "source": [
    "pitching = pd.read_csv(os.path.join(config.PROJECT_ROOT_DIR, 'data', 'historical', 'pitchingHistorical.csv'), encoding = 'latin')\n",
    "hitting = pd.read_csv(os.path.join(config.PROJECT_ROOT_DIR, 'data', 'historical', 'hittingHistorical.csv'), encoding = 'latin')\n",
    "players = pd.read_csv(os.path.join(config.PROJECT_ROOT_DIR, 'data', 'historical', 'players.csv'), encoding = 'latin')\n",
    "mvp = pd.read_csv(os.path.join(config.PROJECT_ROOT_DIR, 'data', 'auxiliary', 'mvpWinners.csv'), encoding = 'latin')"
   ]
  },
  {
   "cell_type": "code",
   "execution_count": 15,
   "metadata": {
    "collapsed": true
   },
   "outputs": [],
   "source": [
    "def nineInningNormalize(df, statColumn, inningsPitchedColumn = 'ip'):\n",
    "    return df[statColumn] * 9/(df[inningsPitchedColumn] % 1 * 10 / 3 + merged[inningsPitchedColumn].round())"
   ]
  },
  {
   "cell_type": "code",
   "execution_count": 16,
   "metadata": {
    "collapsed": true
   },
   "outputs": [],
   "source": [
    "def atBatNormalize(df, statColumn, atBatColumn):\n",
    "    return df[statColumn] / df[atBatColumn]"
   ]
  },
  {
   "cell_type": "code",
   "execution_count": 17,
   "metadata": {
    "collapsed": false
   },
   "outputs": [
    {
     "name": "stderr",
     "output_type": "stream",
     "text": [
      "C:\\Users\\aburz\\.conda\\envs\\msia423\\lib\\site-packages\\pandas\\core\\indexing.py:543: SettingWithCopyWarning: \n",
      "A value is trying to be set on a copy of a slice from a DataFrame.\n",
      "Try using .loc[row_indexer,col_indexer] = value instead\n",
      "\n",
      "See the caveats in the documentation: http://pandas.pydata.org/pandas-docs/stable/indexing.html#indexing-view-versus-copy\n",
      "  self.obj[item] = s\n"
     ]
    }
   ],
   "source": [
    "merged = players.merge(mvp, how='left', left_on='name_display_first_last', right_on='Winner')\n",
    "stats = pitching.merge(hitting, how='outer', left_on=['player_id', 'season'], right_on=['player_id', 'season'])\n",
    "merged = stats.merge(merged, how = 'left', left_on=['player_id','season'], right_on=['player_id', 'Year'])\n",
    "\n",
    "minimumInningsPitched = 10\n",
    "minimumAtBats = 10\n",
    "merged = merged[(merged['ip'] > minimumInningsPitched) | (merged['ab_y'] > minimumAtBats)]\n",
    "\n",
    "merged['sv_pct'] = merged['sv']/merged['svo']\n",
    "merged['win_pct'] = merged['w']/(merged['w'] + merged['l'])\n",
    "merged['hits_9'] = nineInningNormalize(merged, 'h_x')\n",
    "merged['hrs_9'] = nineInningNormalize(merged, 'hr_x')\n",
    "merged['bbs_9'] = nineInningNormalize(merged, 'bb_x')\n",
    "merged['ks_9'] = nineInningNormalize(merged, 'so_x')\n",
    "merged['ers_9'] = nineInningNormalize(merged, 'er')\n",
    "\n",
    "merged['hit_ab'] = atBatNormalize(merged, 'h_y', 'ab_y')\n",
    "merged['hr_ab'] = atBatNormalize(merged, 'hr_y', 'ab_y')\n",
    "merged['rbi_ab'] = atBatNormalize(merged, 'rbi', 'ab_y')\n",
    "merged['bb_ab'] = atBatNormalize(merged, 'bb_y', 'ab_y')\n",
    "merged['k_ab'] = atBatNormalize(merged, 'so_y', 'ab_y')\n",
    "\n",
    "merged['is_winner'] = merged['Winner'].apply(lambda x: 0 if isinstance(x, float) else 1)\n",
    "\n",
    "# modelData = merged[['hits_9', 'hrs_9', 'bbs_9', 'ks_9', 'ers_9', 'sv_pct', 'win_pct', 'era', 'whip', 'hit_ab', 'hr_ab',\n",
    "#                     'rbi_ab', 'bb_ab', 'k_ab', 'slg_y', 'obp_y', 'is_winner']]\n",
    "\n",
    "modelData = merged[['h_x', 'hr_x', 'bb_x', 'so_x', 'er', 'sv', 'svo', 'w', 'l', 'ip', 'era', 'whip', 'h_y', 'hr_y',\n",
    "                    'rbi', 'bb_y', 'so_y', 'slg_y', 'obp_y', 'ab_y', 'is_winner']]\n",
    "\n",
    "modelData.loc[modelData['era'] == '-.--', 'era'] = 0.0\n",
    "modelData.loc[modelData['era'] == '*.**', 'era'] = 0.0\n",
    "modelData.loc[modelData['whip'] == '-.--', 'whip'] = 0.0\n",
    "modelData.loc[modelData['whip'] == '*.**', 'whip'] = 0.0\n",
    "\n",
    "modelData.loc[modelData['slg_y'] == '.---', 'slg_y'] = 0.0\n",
    "modelData.loc[modelData['obp_y'] == '.---', 'obp_y'] = 0.0\n",
    "\n",
    "modelData = modelData.replace([np.inf, -np.inf], np.nan).fillna(0)\n",
    "\n",
    "# modelData"
   ]
  },
  {
   "cell_type": "code",
   "execution_count": 18,
   "metadata": {
    "collapsed": false
   },
   "outputs": [],
   "source": [
    "X = modelData.loc[:, modelData.columns != 'is_winner']\n",
    "y = modelData.loc[:, modelData.columns == 'is_winner']\n",
    "\n",
    "over_sample = SMOTE(random_state = 0)\n",
    "\n",
    "X_train, X_test, y_train, y_test = train_test_split(X, y, test_size=0.3, random_state=0)\n",
    "columns = X_train.columns\n",
    "\n",
    "y_train\n",
    "over_sample_X, over_sample_y = over_sample.fit_sample(X_train, y_train.values.ravel())\n",
    "over_sample_X = pd.DataFrame(data=over_sample_X,columns=columns )\n",
    "over_sample_y = pd.DataFrame(data=over_sample_y,columns=['is_winner'])"
   ]
  },
  {
   "cell_type": "code",
   "execution_count": 19,
   "metadata": {
    "collapsed": false
   },
   "outputs": [
    {
     "name": "stdout",
     "output_type": "stream",
     "text": [
      "length of oversampled data is  82400\n",
      "Number of no subscription in oversampled data 41200\n",
      "Number of subscription 41200\n",
      "Proportion of no subscription data in oversampled data is  0.5\n",
      "Proportion of subscription data in oversampled data is  0.5\n"
     ]
    }
   ],
   "source": [
    "print(\"length of oversampled data is \",len(over_sample_X))\n",
    "print(\"Number of no subscription in oversampled data\",len(over_sample_y[over_sample_y['is_winner']==0]))\n",
    "print(\"Number of subscription\",len(over_sample_y[over_sample_y['is_winner']==1]))\n",
    "print(\"Proportion of no subscription data in oversampled data is \",len(over_sample_y[over_sample_y['is_winner']==0])/len(over_sample_X))\n",
    "print(\"Proportion of subscription data in oversampled data is \",len(over_sample_y[over_sample_y['is_winner']==1])/len(over_sample_X))"
   ]
  },
  {
   "cell_type": "code",
   "execution_count": 32,
   "metadata": {
    "collapsed": false
   },
   "outputs": [
    {
     "name": "stderr",
     "output_type": "stream",
     "text": [
      "C:\\Users\\aburz\\.conda\\envs\\msia423\\lib\\site-packages\\sklearn\\linear_model\\logistic.py:758: ConvergenceWarning: lbfgs failed to converge. Increase the number of iterations.\n",
      "  \"of iterations.\", ConvergenceWarning)\n"
     ]
    },
    {
     "name": "stdout",
     "output_type": "stream",
     "text": [
      "[[1.76890280e-02 1.64916044e-02 1.00476157e-01 ... 4.28351969e-05\n",
      "  8.20485519e-02 1.72125054e-01]\n",
      " [0.00000000e+00 0.00000000e+00 0.00000000e+00 ... 0.00000000e+00\n",
      "  0.00000000e+00 0.00000000e+00]]\n",
      "[8.84451400e-03 8.24580219e-03 5.02380785e-02 ... 2.14175984e-05\n",
      " 4.10242760e-02 8.60625269e-02]\n",
      "Accuracy of logistic regression classifier on test set: 0.96\n",
      "[[17612    55]\n",
      " [   20     9]]\n",
      "              precision    recall  f1-score   support\n",
      "\n",
      "           0       1.00      1.00      1.00     17667\n",
      "           1       0.14      0.31      0.19        29\n",
      "\n",
      "   micro avg       1.00      1.00      1.00     17696\n",
      "   macro avg       0.57      0.65      0.60     17696\n",
      "weighted avg       1.00      1.00      1.00     17696\n",
      "\n"
     ]
    }
   ],
   "source": [
    "model_lr = LogisticRegression(random_state=0, solver='lbfgs', multi_class='ovr')\n",
    "model_lr.fit(over_sample_X, over_sample_y.values.ravel())\n",
    "\n",
    "model_rf = RandomForestClassifier(n_estimators=100, random_state=0)\n",
    "model_rf.fit(over_sample_X, over_sample_y.values.ravel())\n",
    "\n",
    "probs = np.stack((model_lr.predict_proba(X_test)[:,1], model_rf.predict_proba(X_test)[:,1]))\n",
    "avg_probs = np.mean(probs, axis=0)\n",
    "\n",
    "y_pred = (avg_probs >= .8).astype(bool)\n",
    "print('Accuracy of logistic regression classifier on test set: {:.2f}'.format(model.score(X_test, y_test)))\n",
    "\n",
    "cm = confusion_matrix(y_test, y_pred)\n",
    "print(cm)\n",
    "\n",
    "print(classification_report(y_test, y_pred))"
   ]
  },
  {
   "cell_type": "code",
   "execution_count": 33,
   "metadata": {
    "collapsed": false
   },
   "outputs": [
    {
     "data": {
      "image/png": "[encoded data removed]",
      "text/plain": [
       "<Figure size 432x288 with 1 Axes>"
      ]
     },
     "metadata": {
      "needs_background": "light"
     },
     "output_type": "display_data"
    }
   ],
   "source": [
    "logit_roc_auc = roc_auc_score(y_test, y_pred)\n",
    "fpr, tpr, thresholds = roc_curve(y_test, avg_probs)\n",
    "plt.figure()\n",
    "plt.plot(fpr, tpr, label='Logistic Regression (area = %0.2f)' % logit_roc_auc)\n",
    "plt.plot([0, 1], [0, 1],'r--')\n",
    "plt.xlim([0.0, 1.0])\n",
    "plt.ylim([0.0, 1.05])\n",
    "plt.xlabel('False Positive Rate')\n",
    "plt.ylabel('True Positive Rate')\n",
    "plt.title('Receiver operating characteristic')\n",
    "plt.legend(loc=\"lower right\")\n",
    "# plt.savefig('Log_ROC')\n",
    "plt.show()"
   ]
  },
  {
   "cell_type": "code",
   "execution_count": 34,
   "metadata": {
    "collapsed": true
   },
   "outputs": [],
   "source": [
    "with open('mvp_lr.model', 'wb') as f:\n",
    "    pickle.dump(model_lr, f)\n",
    "f.close()\n",
    "\n",
    "with open('mvp_rf.model', 'wb') as f:\n",
    "    pickle.dump(model_rf, f)\n",
    "f.close()"
   ]
  }
 ],
 "metadata": {
  "kernelspec": {
   "display_name": "Python (msia423)",
   "language": "python",
   "name": "msia423"
  },
  "language_info": {
   "codemirror_mode": {
    "name": "ipython",
    "version": 3
   },
   "file_extension": ".py",
   "mimetype": "text/x-python",
   "name": "python",
   "nbconvert_exporter": "python",
   "pygments_lexer": "ipython3",
   "version": "3.7.3"
  }
 },
 "nbformat": 4,
 "nbformat_minor": 2
}
